{
 "cells": [
  {
   "cell_type": "markdown",
   "metadata": {
    "user_expressions": []
   },
   "source": [
    "# Compactness and Compact Object Formation\n",
    "\n",
    "### Learning Objectives\n",
    "\n",
    "- work with MESA profile data using pandas\n",
    "- compute proto-neutron star properties from a core-collapse MESA model\n",
    "- explain convective behavior in advanced burning massive stars\n",
    "- computing and comparing various definitions of compactness"
   ]
  },
  {
   "cell_type": "code",
   "execution_count": null,
   "metadata": {
    "tags": []
   },
   "outputs": [],
   "source": [
    "import numpy as np\n",
    "import matplotlib.pyplot as plt\n",
    "import pandas as pd\n",
    "from scipy import integrate"
   ]
  },
  {
   "cell_type": "markdown",
   "metadata": {
    "user_expressions": []
   },
   "source": [
    "Download one of the following three core-collapse progenitor models. These models were evolved from pre-MS to the start of iron core-collapse using similar inlists as those sent to you. They also were initialized to have an equatorial velocity of 200 $(\\rm{km \\ s}^{-1})$ at the zero age main-sequence and magnetic fields via the [Spruit-Tayler Dynamo](https://iopscience.iop.org/article/10.1086/429868/pdf).\n",
    "\n",
    "* $15 M_{\\odot}$: `15m_cc.dat`; \n",
    "* $20 M_{\\odot}$: `20m_cc.dat`; \n",
    "* $40 M_{\\odot}$: `40m_cc.dat`; "
   ]
  },
  {
   "cell_type": "markdown",
   "metadata": {},
   "source": [
    "## 1. Import MESA profile data using Pandas\n",
    "\n",
    "We will start by using Pandas to load a MESA profile for analysis. We will be using the `read_csv` tool specifically. Details are [here](https://pandas.pydata.org/docs/reference/api/pandas.read_csv.html).\n",
    "\n",
    "* Complete loading our profile data below"
   ]
  },
  {
   "cell_type": "code",
   "execution_count": null,
   "metadata": {},
   "outputs": [],
   "source": [
    "# load data and see which variables are available\n",
    "##cc_model = pd.read_csv(##,sep=r'\\s+',header=4)\n",
    "##cc_model = cc_model.iloc[::-1].reset_index(drop=True) # this line is needed to reverse the array orders, \n",
    "                                                      # MESA outputs data from surface to center by default"
   ]
  },
  {
   "cell_type": "code",
   "execution_count": null,
   "metadata": {},
   "outputs": [],
   "source": [
    "# example reading a variable from the profile data\n",
    "##cc_model_gradT = cc_model['gradT']\n",
    "##cc_model_gradT"
   ]
  },
  {
   "cell_type": "markdown",
   "metadata": {},
   "source": [
    "## 2. Predicting Proto-Neutron Star Properties from a Rotating CCSN Progenitor\n",
    "\n",
    "Here, we will work to compute the pulsar spin rates based on the properties of the stellar model at iron core-collapse. \n",
    "\n",
    "This will requrie a few pieces:\n",
    "\n",
    "    * the gravitational and baryonic mass of the remnant\n",
    "    * the integrated angular momentum\n",
    "    * an EOS choice for the M/R relation\n",
    "    * and an assumption about the moment of intertia\n",
    "    \n",
    "We will work to compute these below.\n",
    "\n",
    "Using your MESA profile: \n",
    "\n",
    "### a. - Baryonic Mass\n",
    "\n",
    "1. Compute the baryonic mass of your stellar model. This is defined as the location at which (from the center of the star outward) that the specific entropy is equal or greater than 4 $k_{\\rm{B}}$ per baryon. First, find the index that corresponds to this location using `argmax`.\n",
    "\n",
    "\n",
    ">Hint: the column name in MESA is `entropy`. You can also open the data in a terminal via `less -S 15m_cc.dat`.\n",
    "\n",
    "2. Next, use the argument at that location to compute your **Baryonic mass** in solar masses. \n",
    "\n",
    ">Compare with Table 4 from [Heger et al. 2005](https://iopscience.iop.org/article/10.1086/429868/pdf) for your initial mass.\n",
    "\n",
    ">Hint: MESA outputs this mass as `m4` in the history data if you want to check your work!"
   ]
  },
  {
   "cell_type": "code",
   "execution_count": null,
   "metadata": {},
   "outputs": [],
   "source": [
    "msun = 1.989e33\n",
    "##cc_entropy = "
   ]
  },
  {
   "cell_type": "code",
   "execution_count": null,
   "metadata": {},
   "outputs": [],
   "source": [
    "##bary_idx = np.argmax"
   ]
  },
  {
   "cell_type": "code",
   "execution_count": null,
   "metadata": {},
   "outputs": [],
   "source": [
    "## print baryonic mass here in msun"
   ]
  },
  {
   "cell_type": "markdown",
   "metadata": {},
   "source": [
    "### b. - fraction of energy loss and gravitational mass\n",
    "\n",
    "The fraction of this mass\n",
    "that is carried away by neutrinos is given by Lattimer & Prakash (2001)\n",
    "\n",
    "$$\n",
    "f = \\frac{0.6\\beta}{1-0.5\\beta}\n",
    "$$\n",
    "\n",
    "where $\\beta$ is defined as\n",
    "\n",
    "$$\n",
    "\\frac{G M_{\\rm{bary}}}{Rc^2}\n",
    "$$\n",
    "\n",
    "1. Use the baryonic mass from a. to compute $\\beta$ and then the fraction of the baryonic mass loss via neutrinos. Assumme a neutron star radius of 12 km. \n",
    "\n",
    ">Hint: the column name in MESA is `entropy`. You can also open the data in a terminal via `less -S 15m_cc.dat`.\n",
    "\n",
    "2. Compute the graviational mass using $f$ and the baryonic mass. \n",
    "\n",
    ">Compare with Table 4 from [Heger et al. 2005](https://iopscience.iop.org/article/10.1086/429868/pdf) for your initial mass.\n"
   ]
  },
  {
   "cell_type": "code",
   "execution_count": null,
   "metadata": {},
   "outputs": [],
   "source": [
    "## remember CGS !\n",
    "G = 6.6743e-8\n",
    "c = 3e10\n",
    "##M_bary = \n",
    "##R = \n",
    "\n",
    "def beta(M_bary,R):\n",
    "    ## complete\n",
    "    return beta\n",
    "\n",
    "\n",
    "def f(beta):\n",
    "    ## complete\n",
    "    return f\n",
    "\n",
    "def M_grav(f,M_bary):\n",
    "    ## complete\n",
    "    return M_grav"
   ]
  },
  {
   "cell_type": "code",
   "execution_count": null,
   "metadata": {},
   "outputs": [],
   "source": [
    "## call functions and obtain f,beta, and m_grav here"
   ]
  },
  {
   "cell_type": "markdown",
   "metadata": {},
   "source": [
    "### c. - pulsar spin rates\n",
    "\n",
    "Our goal to estimate the pulsar spin rate is to solve the classical equation for angular momentum for the spin rate $\\omega$:\n",
    "\n",
    "$$\n",
    "L = I\\omega\n",
    "$$\n",
    "\n",
    "$L$ more often noted with $J$ so we will use that here. \n",
    "\n",
    "We will assume a moment of inertia of the form:\n",
    "\n",
    "$$\n",
    "I \\approx 0.35 M_{\\rm{grav}} R^{2}_{\\rm{PNS}}\n",
    "$$\n",
    "\n",
    "We want to compute the integrated total angular momentum out to our **baryonic mass** from part a. \n",
    "\n",
    "1. Integrate the specific angular momentum as a function of mass coordinate from the center out to the **baryonic mass** to compute $\\bf{J}_{PNS}$.\n",
    "\n",
    ">Hint: the column name in MESA is `j_rot`.\n",
    "\n",
    ">Hint: you can use `integrate.simps` following [here](https://docs.scipy.org/doc/scipy/reference/generated/scipy.integrate.simpson.html#scipy.integrate.simpson).\n",
    "\n",
    "2. Compute the moment of intertia using the **gravitational mass**, then use it to compute the pulsar spin rate in ms units.\n",
    "\n",
    "Recall the relation between angular frequency $\\omega$ and period $T$: $T = 2\\pi/\\omega$.\n",
    "\n",
    ">Compare with Table 4 from [Heger et al. 2005](https://iopscience.iop.org/article/10.1086/429868/pdf) for your initial mass.\n"
   ]
  },
  {
   "cell_type": "code",
   "execution_count": null,
   "metadata": {},
   "outputs": [],
   "source": [
    "##x = enclosed mass out to m_bary \n",
    "##y = j_rot"
   ]
  },
  {
   "cell_type": "code",
   "execution_count": null,
   "metadata": {},
   "outputs": [],
   "source": [
    "##J = integrate.simps(\n",
    "##I = remember to use m_grav "
   ]
  },
  {
   "cell_type": "code",
   "execution_count": null,
   "metadata": {},
   "outputs": [],
   "source": [
    "# solve for omega here\n",
    "# convert to period in ms, print result"
   ]
  },
  {
   "cell_type": "markdown",
   "metadata": {},
   "source": [
    "## 3. Stellar Compactness\n",
    "\n",
    "Next, we will explore stellar compactness. In O'Connor et. al, they argue that _that the outcome, for a given EOS, can be estimated, to first order, by a single parameter, the compactness of the stellar core at bounce._\n",
    "\n",
    "Below shows the models that tend to explode $\\xi_{2.5}<\\lesssim$ 0.45, and those greater that fail and produce black holes. \n",
    "\n",
    "\n",
    "![apjaac2daf8_hr](apj381250f13_hr.jpg)\n",
    "\n",
    "\n",
    "\n",
    "The situation was worsened when Sukhbold et al 2019 showed that the compactness can vary significantly with slight changes in initial mass! \n",
    "\n",
    "\n",
    "\n",
    "\n",
    "![compactness_sukhbold_2019](compactness_sukhbold_2019.jpg)\n",
    "\n",
    "\n",
    "\n",
    "---\n",
    "\n",
    "By default, MESA now can compute the compactness parameter in the history output. \n",
    "\n",
    "`!compactness_parameter ! (m/Msun)/(R(m)/1000km) for m = 2.5 Msun`\n",
    "\n",
    "Here, we will compute the value from profile data to confirm and to also allow us to evaluate at different mass coordinates. \n",
    "\n",
    "The compactness parameter is defined as \n",
    "\n",
    "$$\n",
    "\\xi_{M} =  \\frac{m/M_{\\odot}}{R(M_{\\rm{bary}}=M) \\ / \\ 1000 \\ \\rm{km}} |_{t_{\\rm{bounce}}}\n",
    "$$\n",
    "\n",
    "where $R$ is the radius the encloses the Lagrangian mass shell $M$. Note that we will be evaluating this at the pre-supernova stage, not at core-bounce. \n"
   ]
  },
  {
   "cell_type": "markdown",
   "metadata": {},
   "source": [
    "Using your MESA profile: \n",
    "\n",
    "### a. - compactness values in MESA\n",
    "\n",
    "1. Compute the compactness parameter assuming $m = 2.5 M_{\\odot}$ and compare this value to MESA in the history.data file. \n",
    "\n",
    "2. Repeat this for the other two profiles. \n",
    "\n",
    "3. Compare your values with [Sukhbold et al 2019](https://iopscience.iop.org/article/10.3847/1538-4357/aac2da/pdf).\n",
    "\n",
    "4. Comment briefly on whether each model should explode or fail and produce a black hole. "
   ]
  },
  {
   "cell_type": "code",
   "execution_count": null,
   "metadata": {},
   "outputs": [],
   "source": [
    "## 1 result here"
   ]
  },
  {
   "cell_type": "code",
   "execution_count": null,
   "metadata": {},
   "outputs": [],
   "source": [
    "## 2 results here"
   ]
  },
  {
   "cell_type": "code",
   "execution_count": null,
   "metadata": {},
   "outputs": [],
   "source": [
    "## discuss together or note 3. here"
   ]
  },
  {
   "cell_type": "code",
   "execution_count": null,
   "metadata": {},
   "outputs": [],
   "source": [
    "## discuss together or note 4. here"
   ]
  }
 ],
 "metadata": {
  "kernelspec": {
   "display_name": "Python 3 (ipykernel)",
   "language": "python",
   "name": "python3"
  },
  "language_info": {
   "codemirror_mode": {
    "name": "ipython",
    "version": 3
   },
   "file_extension": ".py",
   "mimetype": "text/x-python",
   "name": "python",
   "nbconvert_exporter": "python",
   "pygments_lexer": "ipython3",
   "version": "3.11.8"
  }
 },
 "nbformat": 4,
 "nbformat_minor": 4
}
