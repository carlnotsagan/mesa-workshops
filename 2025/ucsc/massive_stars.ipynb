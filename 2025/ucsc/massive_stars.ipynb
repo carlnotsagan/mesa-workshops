{
 "cells": [
  {
   "cell_type": "markdown",
   "metadata": {
    "user_expressions": []
   },
   "source": [
    "# Modeling the Evolution of Massive Stars and Red Super Giants\n",
    "\n",
    "_UCSC - MESA Workshop - August 6, 2025 - Carl Fields_\n",
    "\n",
    "### Learning Objectives\n",
    "\n",
    "- identify convective and radiative regions using MESA models\n",
    "- explore mesaPlot capabilities\n",
    "- explain time-dependent convective behavior using Kippenhahn diagrams\n",
    "- explore MESA-Explorer capabilities\n",
    "- general debugging/MESA questions"
   ]
  },
  {
   "cell_type": "markdown",
   "metadata": {},
   "source": [
    "To produce Kippenhahn plots later in this exercise, we use [mesaplot](https://github.com/rjfarmer/mesaplot)\n",
    "\n",
    "````{note}\n",
    "`py_mesa_reader` is not available on PyPI, so it can be installed using `pip` as:\n",
    "```\n",
    "pip install git+https://github.com/rjfarmer/mesaplot\n",
    "```\n",
    "````"
   ]
  },
  {
   "cell_type": "code",
   "execution_count": null,
   "metadata": {
    "tags": []
   },
   "outputs": [],
   "source": [
    "import numpy as np\n",
    "import matplotlib.pyplot as plt\n",
    "import pandas as pd\n",
    "import sys \n",
    "\n",
    "# this will be different for you, find its location using `pip show mesaplot`\n",
    "## sys.path.append('/opt/anaconda3/lib/python3.11/site-packages/mesaPlot') \n",
    "\n",
    "# note the capital `P`\n",
    "## import mesaPlot as mp"
   ]
  },
  {
   "cell_type": "markdown",
   "metadata": {},
   "source": [
    "## 1. Time-Evolution Properties of Massive Stars with `mesaPlot`\n",
    "\n",
    "Using one of the Massive Star model MESA history data: \n",
    "\n",
    "### a. - Kippenhahn diagrams outside of MESA\n",
    "\n",
    "1. Copy one of your history data files and place into a folder called `LOGS`.\n",
    "\n",
    "2. Rename the file to `history.data`. `mesaPlot` cannot take unique filenames. \n",
    "\n",
    "3. Load the history data by passing the path to `LOGS` to mesaPlot.\n",
    "\n",
    "4. Using these data, produce a Kippenhan plot below versus model number (`Kip`) or age (`Kip2`). Probably model number. Also, show the mass locations for help identifying the different regions.\n",
    "\n",
    "> Where is the model convective? \n",
    "\n",
    "> Can you identify the iron core, si-, and o-shell locations?"
   ]
  },
  {
   "cell_type": "code",
   "execution_count": null,
   "metadata": {},
   "outputs": [],
   "source": [
    "## a results here"
   ]
  },
  {
   "cell_type": "markdown",
   "metadata": {},
   "source": [
    "### b. - Pre-Collapse Models\n",
    "\n",
    "Next, lets explore the abundance properties of the stellar profile near collapse using `mesaPlot`.\n",
    "\n",
    "1. Copy `16m_rot_350_no_ST_after_724s_to_cc.dat`, a **profile data file** from my paper: [The Three-Dimensional Collapse Of A Rapidly Rotating 16 $M_{\\odot}$ Star](https://zenodo.org/records/5796334) and place into a folder called `LOGS`.\n",
    "\n",
    "2. Rename the file to `profile1.data` for example. `mesaPlot` cannot take unique filenames and expects an integer profile as they are output in `LOGS` by default in MESA.\n",
    "\n",
    "3. Load the profile data by passing the path to `LOGS` to mesaPlot.\n",
    "\n",
    "4. Using these data, produce an abundance profile (stellar mass versus mass fraction) using the `Abund` function. Setting `num=1`.\n",
    "\n",
    ">Hint: you can run `p.plotAbun?` to see the available commands. \n",
    "\n",
    "> Can you estimate the approximate core mass of this model?"
   ]
  },
  {
   "cell_type": "code",
   "execution_count": null,
   "metadata": {},
   "outputs": [],
   "source": [
    "### b. 4. result here"
   ]
  },
  {
   "cell_type": "markdown",
   "metadata": {},
   "source": [
    "Next, lets look at some of the rotating properties of the stellar model. \n",
    "\n",
    "5. Using the same model, plot a Dynamo profile using mesaPlot. \n",
    "\n",
    "6. If there is time, repeat for one of the other model files. Note, you will need to copy and rename the profile to `profile1.data`. Or, to a different integer and edit the `profiles.index` file. \n",
    "\n",
    "> Where do you see the B-field to be strongest?"
   ]
  },
  {
   "cell_type": "code",
   "execution_count": null,
   "metadata": {
    "scrolled": false
   },
   "outputs": [],
   "source": [
    "### 5. result here"
   ]
  },
  {
   "cell_type": "markdown",
   "metadata": {},
   "source": [
    "## 2. Time-Evolution Properties of Massive Stars with MESA Explorer\n",
    "\n",
    "Next, let's look at yet another tool for working with MESA data. \n",
    "\n",
    "1. Navigate to [MESA Explorer](https://billwolf.space/mesa-explorer/). \n",
    "\n",
    "2. Upload the two history data files using Multi-File.\n",
    "\n",
    "3. Produce a plot of the `model_number` vs. the `compactness` over time for both of these models on the same plot. \n",
    "\n",
    "4. Style and save the plot for sharing later. \n",
    "\n",
    "5. Produce one additional plot using variables of your choice showing both models on the same plot. Save this plot as well!"
   ]
  },
  {
   "cell_type": "markdown",
   "metadata": {},
   "source": [
    "## 3. General Debuggning/Feedback on MESA Workflow\n",
    "\n",
    "About the last 30 minutes or so will be saved for questions that come up running the models beforehand, during the notebooks, or specific questions about your research problem or setup using MESA.\n",
    "\n"
   ]
  }
 ],
 "metadata": {
  "kernelspec": {
   "display_name": "Python 3 (ipykernel)",
   "language": "python",
   "name": "python3"
  },
  "language_info": {
   "codemirror_mode": {
    "name": "ipython",
    "version": 3
   },
   "file_extension": ".py",
   "mimetype": "text/x-python",
   "name": "python",
   "nbconvert_exporter": "python",
   "pygments_lexer": "ipython3",
   "version": "3.11.8"
  }
 },
 "nbformat": 4,
 "nbformat_minor": 4
}
